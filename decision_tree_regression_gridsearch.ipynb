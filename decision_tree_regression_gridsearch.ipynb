{
 "cells": [
  {
   "cell_type": "code",
   "execution_count": null,
   "id": "fc55f5f6",
   "metadata": {},
   "outputs": [],
   "source": [
    "import numpy as np\n",
    "import pandas as pd\n",
    "\n",
    "import matplotlib.pyplot as plt\n",
    "import seaborn as sns\n",
    "\n",
    "from sklearn.tree import DecisionTreeRegressor, plot_tree\n",
    "from sklearn.model_selection import train_test_split, GridSearchCV\n",
    "from sklearn.metrics import mean_squared_error\n",
    "\n",
    "from sklearn.tree import export_graphviz\n",
    "from mlxtend.plotting import plot_decision_regions\n",
    "\n",
    "from sklearn import metrics\n",
    "from sklearn.preprocessing import LabelEncoder\n",
    "\n",
    "import warnings\n",
    "warnings.filterwarnings('ignore')\n"
   ]
  },
  {
   "cell_type": "code",
   "execution_count": null,
   "id": "310ba243",
   "metadata": {},
   "outputs": [],
   "source": [
    "real_estate = pd.read_csv('real_estate.csv')"
   ]
  },
  {
   "cell_type": "code",
   "execution_count": null,
   "id": "e226cbbe",
   "metadata": {},
   "outputs": [],
   "source": [
    "real_estate.head()"
   ]
  },
  {
   "cell_type": "code",
   "execution_count": null,
   "id": "acd11eae",
   "metadata": {},
   "outputs": [],
   "source": [
    "real_estate.info()"
   ]
  },
  {
   "cell_type": "code",
   "execution_count": null,
   "id": "17e84df0",
   "metadata": {},
   "outputs": [],
   "source": [
    "X = real_estate[['Bedrooms', 'Size', 'Pool', 'Distance', 'Garage', 'Baths']]\n",
    "y= real_estate[['Price']]"
   ]
  },
  {
   "cell_type": "code",
   "execution_count": null,
   "id": "e56aca8f",
   "metadata": {},
   "outputs": [],
   "source": [
    "X_train, X_test, y_train, y_test = train_test_split(X, y, test_size = .25, random_state=32)"
   ]
  },
  {
   "cell_type": "code",
   "execution_count": null,
   "id": "f879fa2f",
   "metadata": {},
   "outputs": [],
   "source": [
    "param_grid = {\n",
    "    'max_depth': [5, 10, 15, None],\n",
    "    'min_samples_split': [2, 5, 10],\n",
    "    'min_samples_leaf': [1, 2, 4],\n",
    "}\n",
    "\n",
    "# Step 5: Initialize GridSearchCV with the decision tree and parameter grid\n",
    "grid_search = GridSearchCV(DecisionTreeRegressor(random_state=32), param_grid=param_grid, cv=5, scoring='neg_mean_squared_error')\n",
    "grid_search.fit(X_train, y_train)\n",
    "\n",
    "# Step 6: Get the best parameters and evaluate on the test set\n",
    "print(\"Best Parameters:\", grid_search.best_params_)\n",
    "best_model = grid_search.best_estimator_\n",
    "\n",
    "# Make predictions on the test set\n",
    "y_pred = best_model.predict(X_test)\n",
    "\n",
    "mse = mean_squared_error(y_test, y_pred)\n",
    "print(\"Test set Mean Squared Error:\", mse)"
   ]
  },
  {
   "cell_type": "code",
   "execution_count": null,
   "id": "9651772c",
   "metadata": {},
   "outputs": [],
   "source": [
    "DTR_grid = DecisionTreeRegressor(max_depth = 10, min_samples_leaf=2, min_samples_split=10, random_state=32)\n",
    "DTR_grid.fit(X_train, y_train)"
   ]
  },
  {
   "cell_type": "code",
   "execution_count": null,
   "id": "683e3792",
   "metadata": {},
   "outputs": [],
   "source": [
    "plot_tree(DTR_grid, feature_names=X_train.columns.tolist())"
   ]
  },
  {
   "cell_type": "code",
   "execution_count": null,
   "id": "5ea8da79",
   "metadata": {},
   "outputs": [],
   "source": [
    "DTR_grid.get_depth()"
   ]
  },
  {
   "cell_type": "code",
   "execution_count": null,
   "id": "62f6417b",
   "metadata": {},
   "outputs": [],
   "source": [
    "DTR_grid.feature_importances_"
   ]
  },
  {
   "cell_type": "code",
   "execution_count": null,
   "id": "9fdb5430",
   "metadata": {},
   "outputs": [],
   "source": [
    "print(DTR_grid.score(X_train, y_train))\n",
    "print(DTR_grid.score(X_test, y_test))"
   ]
  },
  {
   "cell_type": "code",
   "execution_count": null,
   "id": "eea2c1f8",
   "metadata": {},
   "outputs": [],
   "source": [
    "# Adjust ccp_alpha to improve how well the tree generalizes to the test set.\n",
    "DTR_grid1 = DecisionTreeRegressor(max_depth = 10, min_samples_leaf=2, min_samples_split=10, random_state=32, ccp_alpha=0)\n",
    "DTR_grid1.fit(X_train,y_train)\n",
    "print(DTR_grid.score(X_train, y_train))\n",
    "print(DTR_grid1.score(X_test,y_test))"
   ]
  },
  {
   "cell_type": "code",
   "execution_count": null,
   "id": "b565ed20",
   "metadata": {},
   "outputs": [],
   "source": []
  }
 ],
 "metadata": {
  "kernelspec": {
   "display_name": "Python 3 (ipykernel)",
   "language": "python",
   "name": "python3"
  },
  "language_info": {
   "codemirror_mode": {
    "name": "ipython",
    "version": 3
   },
   "file_extension": ".py",
   "mimetype": "text/x-python",
   "name": "python",
   "nbconvert_exporter": "python",
   "pygments_lexer": "ipython3",
   "version": "3.11.5"
  }
 },
 "nbformat": 4,
 "nbformat_minor": 5
}
